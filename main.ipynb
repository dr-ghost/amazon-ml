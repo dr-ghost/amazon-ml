{
 "cells": [
  {
   "cell_type": "code",
   "execution_count": 1,
   "metadata": {},
   "outputs": [
    {
     "data": {
      "text/plain": [
       "\"\\nAnswer in this format 'value unit' using the text on the image, What is the item weight?\\n\""
      ]
     },
     "execution_count": 1,
     "metadata": {},
     "output_type": "execute_result"
    }
   ],
   "source": [
    "'''\n",
    "Answer in this format 'value unit' using the text on the image, What is the item weight?\n",
    "'''"
   ]
  },
  {
   "cell_type": "code",
   "execution_count": 2,
   "metadata": {},
   "outputs": [],
   "source": [
    "import pandas as pd\n",
    "import numpy as np\n",
    "import json as js\n",
    "\n",
    "import sys\n",
    "sys.path.append('./student_resource 3/src')\n",
    "\n",
    "from utils import *\n",
    "from constants import *\n",
    "from pathlib import Path"
   ]
  },
  {
   "cell_type": "code",
   "execution_count": 3,
   "metadata": {},
   "outputs": [],
   "source": [
    "data = pd.read_csv(\"student_resource 3/dataset/train.csv\")"
   ]
  },
  {
   "cell_type": "code",
   "execution_count": 4,
   "metadata": {},
   "outputs": [
    {
     "data": {
      "text/html": [
       "<div>\n",
       "<style scoped>\n",
       "    .dataframe tbody tr th:only-of-type {\n",
       "        vertical-align: middle;\n",
       "    }\n",
       "\n",
       "    .dataframe tbody tr th {\n",
       "        vertical-align: top;\n",
       "    }\n",
       "\n",
       "    .dataframe thead th {\n",
       "        text-align: right;\n",
       "    }\n",
       "</style>\n",
       "<table border=\"1\" class=\"dataframe\">\n",
       "  <thead>\n",
       "    <tr style=\"text-align: right;\">\n",
       "      <th></th>\n",
       "      <th>image_link</th>\n",
       "      <th>group_id</th>\n",
       "      <th>entity_name</th>\n",
       "      <th>entity_value</th>\n",
       "    </tr>\n",
       "  </thead>\n",
       "  <tbody>\n",
       "    <tr>\n",
       "      <th>0</th>\n",
       "      <td>https://m.media-amazon.com/images/I/61I9XdN6OF...</td>\n",
       "      <td>748919</td>\n",
       "      <td>item_weight</td>\n",
       "      <td>500.0 gram</td>\n",
       "    </tr>\n",
       "    <tr>\n",
       "      <th>1</th>\n",
       "      <td>https://m.media-amazon.com/images/I/71gSRbyXmo...</td>\n",
       "      <td>916768</td>\n",
       "      <td>item_volume</td>\n",
       "      <td>1.0 cup</td>\n",
       "    </tr>\n",
       "    <tr>\n",
       "      <th>2</th>\n",
       "      <td>https://m.media-amazon.com/images/I/61BZ4zrjZX...</td>\n",
       "      <td>459516</td>\n",
       "      <td>item_weight</td>\n",
       "      <td>0.709 gram</td>\n",
       "    </tr>\n",
       "    <tr>\n",
       "      <th>3</th>\n",
       "      <td>https://m.media-amazon.com/images/I/612mrlqiI4...</td>\n",
       "      <td>459516</td>\n",
       "      <td>item_weight</td>\n",
       "      <td>0.709 gram</td>\n",
       "    </tr>\n",
       "    <tr>\n",
       "      <th>4</th>\n",
       "      <td>https://m.media-amazon.com/images/I/617Tl40LOX...</td>\n",
       "      <td>731432</td>\n",
       "      <td>item_weight</td>\n",
       "      <td>1400 milligram</td>\n",
       "    </tr>\n",
       "  </tbody>\n",
       "</table>\n",
       "</div>"
      ],
      "text/plain": [
       "                                          image_link  group_id  entity_name  \\\n",
       "0  https://m.media-amazon.com/images/I/61I9XdN6OF...    748919  item_weight   \n",
       "1  https://m.media-amazon.com/images/I/71gSRbyXmo...    916768  item_volume   \n",
       "2  https://m.media-amazon.com/images/I/61BZ4zrjZX...    459516  item_weight   \n",
       "3  https://m.media-amazon.com/images/I/612mrlqiI4...    459516  item_weight   \n",
       "4  https://m.media-amazon.com/images/I/617Tl40LOX...    731432  item_weight   \n",
       "\n",
       "     entity_value  \n",
       "0      500.0 gram  \n",
       "1         1.0 cup  \n",
       "2      0.709 gram  \n",
       "3      0.709 gram  \n",
       "4  1400 milligram  "
      ]
     },
     "execution_count": 4,
     "metadata": {},
     "output_type": "execute_result"
    }
   ],
   "source": [
    "data.head()"
   ]
  },
  {
   "cell_type": "code",
   "execution_count": 5,
   "metadata": {},
   "outputs": [],
   "source": [
    "NUM_SAMPLES = 15"
   ]
  },
  {
   "cell_type": "code",
   "execution_count": 6,
   "metadata": {},
   "outputs": [
    {
     "name": "stdout",
     "output_type": "stream",
     "text": [
      "263859\n"
     ]
    }
   ],
   "source": [
    "max_len = data.shape[0]\n",
    "print(max_len)"
   ]
  },
  {
   "cell_type": "code",
   "execution_count": 7,
   "metadata": {},
   "outputs": [],
   "source": [
    "nums = np.random.randint(0, max_len-1, NUM_SAMPLES)"
   ]
  },
  {
   "cell_type": "code",
   "execution_count": null,
   "metadata": {},
   "outputs": [],
   "source": [
    "qdict = {}"
   ]
  },
  {
   "cell_type": "code",
   "execution_count": 8,
   "metadata": {},
   "outputs": [
    {
     "name": "stdout",
     "output_type": "stream",
     "text": [
      "q72918 : item_weight : 1190.0 gram\n",
      "q163866 : width : 5.9 inch\n",
      "q9470 : wattage : 150.0 watt\n",
      "q183030 : depth : 120.0 millimetre\n",
      "q221754 : depth : 4.6 inch\n",
      "q238915 : height : 3.25 inch\n",
      "q132639 : width : 28.0 inch\n",
      "q252748 : height : 8.9 centimetre\n",
      "q187802 : depth : 0.9 centimetre\n",
      "q113815 : item_weight : 10.0 gram\n",
      "q187821 : depth : 11.6 centimetre\n",
      "q177226 : height : 39.0 inch\n",
      "q90105 : item_weight : 18.14 gram\n",
      "q58102 : item_weight : 200.0 milligram\n",
      "q130774 : item_weight : 24.0 gram\n"
     ]
    }
   ],
   "source": [
    "with open(\"questions.jsonl\", \"w\") as f:\n",
    "    for i in nums:\n",
    "        url, grp_id, e_name, e_val = data.iloc[i, :]\n",
    "        f_name = Path(url).name\n",
    "        download_image(url, \"images\")\n",
    "        print(f\"q{i} : {e_name} : {e_val}\")\n",
    "        \n",
    "        qdict[f\"q{i}\"] = (e_name, e_val)\n",
    "        \n",
    "        dct = {\"question_id\": f\"q{i}\", \"text\": f\"Answer in this format 'value <space> unit' and unit shouldn't be in short form and use 2 decimal point precision when required, using the text on the image, What is the {' '.join(e_name.split('_'))}?\", \"image\": f\"{f_name}\"}\n",
    "        \n",
    "        f.write(js.dumps(dct) + '\\n')\n",
    "        "
   ]
  },
  {
   "cell_type": "code",
   "execution_count": 9,
   "metadata": {},
   "outputs": [],
   "source": [
    "import re"
   ]
  },
  {
   "cell_type": "code",
   "execution_count": 20,
   "metadata": {},
   "outputs": [],
   "source": [
    "entity_unit_available = {\n",
    "    \"centimetre\", \"foot\", \"millimetre\", \"metre\", \"inch\", \"yard\",\n",
    "    \"milligram\", \"kilogram\", \"microgram\", \"gram\", \"ounce\", \"ton\", \"pound\",\n",
    "    \"millivolt\", \"kilovolt\", \"volt\", \"kilowatt\", \"watt\",\n",
    "    \"cubic foot\", \"microlitre\", \"cup\", \"fluid ounce\", \"centilitre\",\n",
    "    \"imperial gallon\", \"pint\", \"decilitre\", \"litre\", \"millilitre\", \"quart\",\n",
    "    \"cubic inch\", \"gallon\"\n",
    "}\n",
    "\n",
    "regexed_mapping = {\n",
    "    \"mg\": \"milligram\",\n",
    "    \"g\": \"gram\",\n",
    "    \"kg\": \"kilogram\",\n",
    "    \"cm\": \"centimetre\",\n",
    "    \"mm\": \"millimetre\",\n",
    "    \"m\": \"metre\",\n",
    "    \"ml\": \"millilitre\",\n",
    "    \"l\": \"litre\",\n",
    "    \"mv\": \"millivolt\",\n",
    "    \"kv\": \"kilovolt\",\n",
    "    \"v\": \"volt\",\n",
    "    \"kw\": \"kilowatt\",\n",
    "    \"w\": \"watt\",\n",
    "    \"oz\": \"ounce\",\n",
    "    \"lb\": \"pound\",\n",
    "}\n",
    "patterns = {\n",
    "    'item_weight': r'(\\d+(\\.\\d+)?\\s?(mg|milligram|g|gram|kg|kilogram|microgram|ounce|ton|pound))',\n",
    "    'height': r'(\\d+(\\.\\d+)?\\s?(mm|millimeter|cm|centimeter|m|meter|inch|foot|yard))',\n",
    "    'depth': r'(\\d+(\\.\\d+)?\\s?(mm|millimeter|cm|centimeter|m|meter|inch|foot|yard))',\n",
    "    'item_volume': r'(\\d+(\\.\\d+)?\\s?(ml|milliliter|l|liter|cubic foot|microliter|cup|fluid ounce|centiliter|imperial gallon|pint|deciliter|quart|cubic inch|gallon))',\n",
    "    'maximum_weight_recommendation': r'(\\d+(\\.\\d+)?\\s?(mg|milligram|kg|kilogram|g|gram|microgram|ounce|ton|pound))',\n",
    "    'voltage': r'(\\d+(\\.\\d+)?\\s?(mV|millivolt|kV|kilovolt|V|volt))',\n",
    "    'wattage': r'(\\d+(\\.\\d+)?\\s?(kW|kilowatt|W|watt))'\n",
    "}\n",
    "\n",
    "\n",
    "def convert_to_grams(value, unit):\n",
    "    conversions = {\n",
    "        'mg': 0.001,\n",
    "        'g': 1,\n",
    "        'kg': 1000,\n",
    "        'gram': 1,\n",
    "        'kilogram': 1000\n",
    "    }\n",
    "    return float(value) * conversions.get(unit.lower(), 0)\n",
    "\n",
    "def convert_to_meters(value, unit):\n",
    "    conversions = {\n",
    "        'mm': 0.001,\n",
    "        'cm': 0.01,\n",
    "        'm': 1,\n",
    "        'millimeter': 0.001,\n",
    "        'centimeter': 0.01,\n",
    "        'meter': 1\n",
    "    }\n",
    "    return float(value) * conversions.get(unit.lower(), 0)\n",
    "\n",
    "def convert_to_liters(value, unit):\n",
    "    conversions = {\n",
    "        'ml': 0.001,\n",
    "        'l': 1,\n",
    "        'litre': 1,\n",
    "        'millilitre': 0.001\n",
    "    }\n",
    "    return float(value) * conversions.get(unit.lower(), 0)\n",
    "\n",
    "def convert_to_base_voltage(value, unit):\n",
    "    # Voltage is already in volts, no need for conversion\n",
    "    return float(value)\n",
    "\n",
    "def convert_to_base_wattage(value, unit):\n",
    "    # Wattage is already in watts, no need for conversion\n",
    "    return float(value)\n",
    "\n",
    "def regex_based_extraction_maxa(text, attribute):\n",
    "    pattern = patterns.get(attribute.lower(), None)\n",
    "        \n",
    "    if not pattern:\n",
    "        return None\n",
    "\n",
    "    matches = re.findall(pattern, text, re.IGNORECASE)\n",
    "    if not matches:\n",
    "        return None\n",
    "\n",
    "    max_value = 0\n",
    "    max_match = None\n",
    "\n",
    "    for _match in matches:\n",
    "        if len(_match[0].split(' '))==1:\n",
    "            # seperate int\n",
    "            _int=''\n",
    "            _unit=''\n",
    "            for i in range(len(_match[0])):\n",
    "                if _match[0][i].isdigit():\n",
    "                    _int+=_match[0][i]\n",
    "                else:\n",
    "                    break\n",
    "            _unit=_match[0][len(_int):]\n",
    "            value, unit = _int, _unit\n",
    "        elif len(_match[0].split(' '))!=2:\n",
    "            continue\n",
    "        else:\n",
    "            value, unit = _match[0].split(' ')\n",
    "\n",
    "\n",
    "\n",
    "        unit=unit.lower()\n",
    "        if unit in regexed_mapping:\n",
    "            unit=regexed_mapping[unit]\n",
    "        max_match = value + ' ' + unit\n",
    "        return max_match\n",
    "        # Convert based on the attribute type\n",
    "        if attribute.lower() in ['item_weight', 'maximum_weight_recommendation']:\n",
    "            converted_value = convert_to_grams(value, unit)\n",
    "        elif attribute.lower() in ['height', 'depth']:\n",
    "            converted_value = convert_to_meters(value, unit)\n",
    "        elif attribute.lower() == 'item_volume':\n",
    "            converted_value = convert_to_liters(value, unit)\n",
    "        elif attribute.lower() == 'voltage':\n",
    "            converted_value = convert_to_base_voltage(value, unit)\n",
    "        elif attribute.lower() == 'wattage':\n",
    "            converted_value = convert_to_base_wattage(value, unit)\n",
    "        else:\n",
    "            continue  # Skip unknown attributes\n",
    "\n",
    "        # Check if this is the maximum value found\n",
    "        if converted_value > max_value:\n",
    "            max_value = converted_value\n",
    "            unit=unit.lower()\n",
    "            if unit in regexed_mapping:\n",
    "                unit=regexed_mapping[unit]\n",
    "            max_match = value + ' ' + unit\n",
    "    return max_match  # Return the match with the highest unit"
   ]
  },
  {
   "cell_type": "code",
   "execution_count": 27,
   "metadata": {},
   "outputs": [
    {
     "name": "stdout",
     "output_type": "stream",
     "text": [
      "Question_id : entity_name : entity_value : predicted_value\n"
     ]
    },
    {
     "ename": "NameError",
     "evalue": "name 'qdict' is not defined",
     "output_type": "error",
     "traceback": [
      "\u001b[0;31m---------------------------------------------------------------------------\u001b[0m",
      "\u001b[0;31mNameError\u001b[0m                                 Traceback (most recent call last)",
      "Cell \u001b[0;32mIn[27], line 6\u001b[0m\n\u001b[1;32m      3\u001b[0m \u001b[38;5;28;01mfor\u001b[39;00m line \u001b[38;5;129;01min\u001b[39;00m f:\n\u001b[1;32m      4\u001b[0m     dat \u001b[38;5;241m=\u001b[39m js\u001b[38;5;241m.\u001b[39mloads(line)\n\u001b[0;32m----> 6\u001b[0m     en_name, en_val \u001b[38;5;241m=\u001b[39m \u001b[43mqdict\u001b[49m[dat[\u001b[38;5;124m'\u001b[39m\u001b[38;5;124mquestion_id\u001b[39m\u001b[38;5;124m'\u001b[39m]]\n\u001b[1;32m      8\u001b[0m     \u001b[38;5;28mprint\u001b[39m(\u001b[38;5;124mf\u001b[39m\u001b[38;5;124m\"\u001b[39m\u001b[38;5;132;01m{\u001b[39;00mdat[\u001b[38;5;124m'\u001b[39m\u001b[38;5;124mquestion_id\u001b[39m\u001b[38;5;124m'\u001b[39m]\u001b[38;5;132;01m}\u001b[39;00m\u001b[38;5;124m : \u001b[39m\u001b[38;5;132;01m{\u001b[39;00men_name\u001b[38;5;132;01m}\u001b[39;00m\u001b[38;5;124m : \u001b[39m\u001b[38;5;132;01m{\u001b[39;00men_val\u001b[38;5;132;01m}\u001b[39;00m\u001b[38;5;124m : \u001b[39m\u001b[38;5;132;01m{\u001b[39;00mregex_based_extraction_maxa(dat[\u001b[38;5;124m'\u001b[39m\u001b[38;5;124mtext\u001b[39m\u001b[38;5;124m'\u001b[39m],\u001b[38;5;250m \u001b[39men_name)\u001b[38;5;132;01m}\u001b[39;00m\u001b[38;5;124m\"\u001b[39m)\n",
      "\u001b[0;31mNameError\u001b[0m: name 'qdict' is not defined"
     ]
    }
   ],
   "source": [
    "print(\"Question_id : entity_name : entity_value : predicted_value\")\n",
    "with open(\"answers.jsonl\", \"r\") as f:\n",
    "    for line in f:\n",
    "        dat = js.loads(line)\n",
    "        \n",
    "        en_name, en_val = qdict[dat['question_id']]\n",
    "        \n",
    "        print(f\"{dat['question_id']} : {en_name} : {en_val} : {regex_based_extraction_maxa(dat['text'], en_name)}\")"
   ]
  },
  {
   "cell_type": "code",
   "execution_count": null,
   "metadata": {},
   "outputs": [],
   "source": []
  }
 ],
 "metadata": {
  "kernelspec": {
   "display_name": "protoenv",
   "language": "python",
   "name": "python3"
  },
  "language_info": {
   "codemirror_mode": {
    "name": "ipython",
    "version": 3
   },
   "file_extension": ".py",
   "mimetype": "text/x-python",
   "name": "python",
   "nbconvert_exporter": "python",
   "pygments_lexer": "ipython3",
   "version": "3.11.9"
  }
 },
 "nbformat": 4,
 "nbformat_minor": 2
}
